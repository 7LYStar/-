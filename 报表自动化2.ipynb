{
 "cells": [
  {
   "cell_type": "code",
   "execution_count": 7,
   "id": "dce4f3d6",
   "metadata": {},
   "outputs": [],
   "source": [
    "import pandas as pd\n",
    "import os\n",
    "os.chdir(r'C:\\Users\\7LStar\\Desktop\\study\\python\\《Python电商数据分析实战：从电商实际案例出发洞悉数据分析全流程》随书数据源及代码\\相关数据源\\第8章 Python报表自动化\\投放数据')"
   ]
  },
  {
   "cell_type": "code",
   "execution_count": 8,
   "id": "6abee6d6",
   "metadata": {},
   "outputs": [
    {
     "data": {
      "text/html": [
       "<div>\n",
       "<style scoped>\n",
       "    .dataframe tbody tr th:only-of-type {\n",
       "        vertical-align: middle;\n",
       "    }\n",
       "\n",
       "    .dataframe tbody tr th {\n",
       "        vertical-align: top;\n",
       "    }\n",
       "\n",
       "    .dataframe thead th {\n",
       "        text-align: right;\n",
       "    }\n",
       "</style>\n",
       "<table border=\"1\" class=\"dataframe\">\n",
       "  <thead>\n",
       "    <tr style=\"text-align: right;\">\n",
       "      <th></th>\n",
       "      <th>品牌</th>\n",
       "      <th>品牌搜索人数</th>\n",
       "      <th>点击人数</th>\n",
       "      <th>支付人数</th>\n",
       "    </tr>\n",
       "  </thead>\n",
       "  <tbody>\n",
       "    <tr>\n",
       "      <th>0</th>\n",
       "      <td>七喜</td>\n",
       "      <td>6896</td>\n",
       "      <td>3841</td>\n",
       "      <td>140</td>\n",
       "    </tr>\n",
       "    <tr>\n",
       "      <th>1</th>\n",
       "      <td>万迅</td>\n",
       "      <td>6394</td>\n",
       "      <td>3014</td>\n",
       "      <td>83</td>\n",
       "    </tr>\n",
       "    <tr>\n",
       "      <th>2</th>\n",
       "      <td>东方</td>\n",
       "      <td>16453</td>\n",
       "      <td>11114</td>\n",
       "      <td>1445</td>\n",
       "    </tr>\n",
       "    <tr>\n",
       "      <th>3</th>\n",
       "      <td>九方</td>\n",
       "      <td>53371</td>\n",
       "      <td>36682</td>\n",
       "      <td>942</td>\n",
       "    </tr>\n",
       "    <tr>\n",
       "      <th>4</th>\n",
       "      <td>佳禾</td>\n",
       "      <td>52686</td>\n",
       "      <td>28308</td>\n",
       "      <td>818</td>\n",
       "    </tr>\n",
       "  </tbody>\n",
       "</table>\n",
       "</div>"
      ],
      "text/plain": [
       "   品牌  品牌搜索人数   点击人数  支付人数\n",
       "0  七喜    6896   3841   140\n",
       "1  万迅    6394   3014    83\n",
       "2  东方   16453  11114  1445\n",
       "3  九方   53371  36682   942\n",
       "4  佳禾   52686  28308   818"
      ]
     },
     "execution_count": 8,
     "metadata": {},
     "output_type": "execute_result"
    }
   ],
   "source": [
    "data=pd.read_excel('2023-12.xlsx')\n",
    "data.head()"
   ]
  },
  {
   "cell_type": "code",
   "execution_count": 12,
   "id": "3d85c396",
   "metadata": {},
   "outputs": [
    {
     "data": {
      "text/plain": [
       "array(['2023'], dtype=object)"
      ]
     },
     "execution_count": 12,
     "metadata": {},
     "output_type": "execute_result"
    }
   ],
   "source": [
    "final=pd.DataFrame()\n",
    "for name in os.listdir():\n",
    "    df=pd.read_excel(name)\n",
    "    df['日期']=name[:4]\n",
    "    final=pd.concat([final,df])\n",
    "\n",
    "final_last=final[final['日期']=='2023']\n",
    "final_last['日期'].unique()"
   ]
  },
  {
   "cell_type": "code",
   "execution_count": 13,
   "id": "3c5c9a9f",
   "metadata": {},
   "outputs": [
    {
     "data": {
      "text/html": [
       "<div>\n",
       "<style scoped>\n",
       "    .dataframe tbody tr th:only-of-type {\n",
       "        vertical-align: middle;\n",
       "    }\n",
       "\n",
       "    .dataframe tbody tr th {\n",
       "        vertical-align: top;\n",
       "    }\n",
       "\n",
       "    .dataframe thead th {\n",
       "        text-align: right;\n",
       "    }\n",
       "</style>\n",
       "<table border=\"1\" class=\"dataframe\">\n",
       "  <thead>\n",
       "    <tr style=\"text-align: right;\">\n",
       "      <th></th>\n",
       "      <th>品牌</th>\n",
       "      <th>品牌搜索人数</th>\n",
       "      <th>点击人数</th>\n",
       "      <th>支付人数</th>\n",
       "      <th>日期</th>\n",
       "    </tr>\n",
       "  </thead>\n",
       "  <tbody>\n",
       "    <tr>\n",
       "      <th>0</th>\n",
       "      <td>七喜</td>\n",
       "      <td>96885</td>\n",
       "      <td>46896</td>\n",
       "      <td>4692</td>\n",
       "      <td>2023</td>\n",
       "    </tr>\n",
       "    <tr>\n",
       "      <th>1</th>\n",
       "      <td>万迅</td>\n",
       "      <td>30070</td>\n",
       "      <td>21386</td>\n",
       "      <td>4393</td>\n",
       "      <td>2023</td>\n",
       "    </tr>\n",
       "    <tr>\n",
       "      <th>2</th>\n",
       "      <td>东方</td>\n",
       "      <td>354060</td>\n",
       "      <td>72224</td>\n",
       "      <td>7544</td>\n",
       "      <td>2023</td>\n",
       "    </tr>\n",
       "    <tr>\n",
       "      <th>3</th>\n",
       "      <td>九方</td>\n",
       "      <td>244846</td>\n",
       "      <td>103363</td>\n",
       "      <td>17097</td>\n",
       "      <td>2023</td>\n",
       "    </tr>\n",
       "    <tr>\n",
       "      <th>4</th>\n",
       "      <td>佳禾</td>\n",
       "      <td>6547</td>\n",
       "      <td>3257</td>\n",
       "      <td>337</td>\n",
       "      <td>2023</td>\n",
       "    </tr>\n",
       "  </tbody>\n",
       "</table>\n",
       "</div>"
      ],
      "text/plain": [
       "   品牌  品牌搜索人数    点击人数   支付人数    日期\n",
       "0  七喜   96885   46896   4692  2023\n",
       "1  万迅   30070   21386   4393  2023\n",
       "2  东方  354060   72224   7544  2023\n",
       "3  九方  244846  103363  17097  2023\n",
       "4  佳禾    6547    3257    337  2023"
      ]
     },
     "execution_count": 13,
     "metadata": {},
     "output_type": "execute_result"
    }
   ],
   "source": [
    "final_last.head()"
   ]
  },
  {
   "cell_type": "code",
   "execution_count": 16,
   "id": "6e1583d5",
   "metadata": {},
   "outputs": [
    {
     "data": {
      "text/plain": [
       "(600, 5)"
      ]
     },
     "execution_count": 16,
     "metadata": {},
     "output_type": "execute_result"
    }
   ],
   "source": [
    "final_last.shape"
   ]
  },
  {
   "cell_type": "code",
   "execution_count": 17,
   "id": "e23d32a5",
   "metadata": {},
   "outputs": [
    {
     "data": {
      "text/html": [
       "<div>\n",
       "<style scoped>\n",
       "    .dataframe tbody tr th:only-of-type {\n",
       "        vertical-align: middle;\n",
       "    }\n",
       "\n",
       "    .dataframe tbody tr th {\n",
       "        vertical-align: top;\n",
       "    }\n",
       "\n",
       "    .dataframe thead th {\n",
       "        text-align: right;\n",
       "    }\n",
       "</style>\n",
       "<table border=\"1\" class=\"dataframe\">\n",
       "  <thead>\n",
       "    <tr style=\"text-align: right;\">\n",
       "      <th></th>\n",
       "      <th>品牌</th>\n",
       "      <th>品牌搜索人数</th>\n",
       "      <th>点击人数</th>\n",
       "      <th>支付人数</th>\n",
       "    </tr>\n",
       "  </thead>\n",
       "  <tbody>\n",
       "    <tr>\n",
       "      <th>12</th>\n",
       "      <td>双敏</td>\n",
       "      <td>1604198</td>\n",
       "      <td>571399</td>\n",
       "      <td>61244</td>\n",
       "    </tr>\n",
       "    <tr>\n",
       "      <th>3</th>\n",
       "      <td>九方</td>\n",
       "      <td>1552916</td>\n",
       "      <td>712139</td>\n",
       "      <td>101217</td>\n",
       "    </tr>\n",
       "    <tr>\n",
       "      <th>20</th>\n",
       "      <td>巨奥</td>\n",
       "      <td>1417267</td>\n",
       "      <td>512847</td>\n",
       "      <td>45790</td>\n",
       "    </tr>\n",
       "    <tr>\n",
       "      <th>15</th>\n",
       "      <td>商软</td>\n",
       "      <td>1002679</td>\n",
       "      <td>544392</td>\n",
       "      <td>72050</td>\n",
       "    </tr>\n",
       "    <tr>\n",
       "      <th>24</th>\n",
       "      <td>戴硕</td>\n",
       "      <td>920350</td>\n",
       "      <td>540284</td>\n",
       "      <td>30371</td>\n",
       "    </tr>\n",
       "  </tbody>\n",
       "</table>\n",
       "</div>"
      ],
      "text/plain": [
       "    品牌   品牌搜索人数    点击人数    支付人数\n",
       "12  双敏  1604198  571399   61244\n",
       "3   九方  1552916  712139  101217\n",
       "20  巨奥  1417267  512847   45790\n",
       "15  商软  1002679  544392   72050\n",
       "24  戴硕   920350  540284   30371"
      ]
     },
     "execution_count": 17,
     "metadata": {},
     "output_type": "execute_result"
    }
   ],
   "source": [
    "gp=final_last.groupby('品牌')[['品牌搜索人数','点击人数','支付人数']].sum().reset_index().sort_values('品牌搜索人数',ascending=False)\n",
    "gp.head()"
   ]
  },
  {
   "cell_type": "code",
   "execution_count": 18,
   "id": "84bd255d",
   "metadata": {},
   "outputs": [
    {
     "data": {
      "text/html": [
       "<div>\n",
       "<style scoped>\n",
       "    .dataframe tbody tr th:only-of-type {\n",
       "        vertical-align: middle;\n",
       "    }\n",
       "\n",
       "    .dataframe tbody tr th {\n",
       "        vertical-align: top;\n",
       "    }\n",
       "\n",
       "    .dataframe thead th {\n",
       "        text-align: right;\n",
       "    }\n",
       "</style>\n",
       "<table border=\"1\" class=\"dataframe\">\n",
       "  <thead>\n",
       "    <tr style=\"text-align: right;\">\n",
       "      <th></th>\n",
       "      <th>品牌</th>\n",
       "      <th>品牌搜索人数</th>\n",
       "      <th>点击人数</th>\n",
       "      <th>支付人数</th>\n",
       "      <th>搜索-点击转换化率</th>\n",
       "      <th>点击-支付转化率</th>\n",
       "    </tr>\n",
       "  </thead>\n",
       "  <tbody>\n",
       "    <tr>\n",
       "      <th>12</th>\n",
       "      <td>双敏</td>\n",
       "      <td>1604198</td>\n",
       "      <td>571399</td>\n",
       "      <td>61244</td>\n",
       "      <td>0.356190</td>\n",
       "      <td>0.107183</td>\n",
       "    </tr>\n",
       "    <tr>\n",
       "      <th>3</th>\n",
       "      <td>九方</td>\n",
       "      <td>1552916</td>\n",
       "      <td>712139</td>\n",
       "      <td>101217</td>\n",
       "      <td>0.458582</td>\n",
       "      <td>0.142131</td>\n",
       "    </tr>\n",
       "    <tr>\n",
       "      <th>20</th>\n",
       "      <td>巨奥</td>\n",
       "      <td>1417267</td>\n",
       "      <td>512847</td>\n",
       "      <td>45790</td>\n",
       "      <td>0.361856</td>\n",
       "      <td>0.089286</td>\n",
       "    </tr>\n",
       "    <tr>\n",
       "      <th>15</th>\n",
       "      <td>商软</td>\n",
       "      <td>1002679</td>\n",
       "      <td>544392</td>\n",
       "      <td>72050</td>\n",
       "      <td>0.542937</td>\n",
       "      <td>0.132349</td>\n",
       "    </tr>\n",
       "    <tr>\n",
       "      <th>24</th>\n",
       "      <td>戴硕</td>\n",
       "      <td>920350</td>\n",
       "      <td>540284</td>\n",
       "      <td>30371</td>\n",
       "      <td>0.587042</td>\n",
       "      <td>0.056213</td>\n",
       "    </tr>\n",
       "  </tbody>\n",
       "</table>\n",
       "</div>"
      ],
      "text/plain": [
       "    品牌   品牌搜索人数    点击人数    支付人数  搜索-点击转换化率  点击-支付转化率\n",
       "12  双敏  1604198  571399   61244   0.356190  0.107183\n",
       "3   九方  1552916  712139  101217   0.458582  0.142131\n",
       "20  巨奥  1417267  512847   45790   0.361856  0.089286\n",
       "15  商软  1002679  544392   72050   0.542937  0.132349\n",
       "24  戴硕   920350  540284   30371   0.587042  0.056213"
      ]
     },
     "execution_count": 18,
     "metadata": {},
     "output_type": "execute_result"
    }
   ],
   "source": [
    "gp['搜索-点击转换化率']=gp['点击人数']/gp['品牌搜索人数']\n",
    "gp['点击-支付转化率']=gp['支付人数']/gp['点击人数']\n",
    "gp.head()"
   ]
  },
  {
   "cell_type": "code",
   "execution_count": 22,
   "id": "d16d0439",
   "metadata": {},
   "outputs": [
    {
     "data": {
      "text/html": [
       "<div>\n",
       "<style scoped>\n",
       "    .dataframe tbody tr th:only-of-type {\n",
       "        vertical-align: middle;\n",
       "    }\n",
       "\n",
       "    .dataframe tbody tr th {\n",
       "        vertical-align: top;\n",
       "    }\n",
       "\n",
       "    .dataframe thead th {\n",
       "        text-align: right;\n",
       "    }\n",
       "</style>\n",
       "<table border=\"1\" class=\"dataframe\">\n",
       "  <thead>\n",
       "    <tr style=\"text-align: right;\">\n",
       "      <th></th>\n",
       "      <th>品牌</th>\n",
       "      <th>品牌搜索人数</th>\n",
       "      <th>点击人数</th>\n",
       "      <th>支付人数</th>\n",
       "      <th>搜索-点击转换化率</th>\n",
       "      <th>点击-支付转化率</th>\n",
       "    </tr>\n",
       "  </thead>\n",
       "  <tbody>\n",
       "    <tr>\n",
       "      <th>12</th>\n",
       "      <td>双敏</td>\n",
       "      <td>1604198</td>\n",
       "      <td>571399</td>\n",
       "      <td>61244</td>\n",
       "      <td>0.36</td>\n",
       "      <td>0.11</td>\n",
       "    </tr>\n",
       "    <tr>\n",
       "      <th>3</th>\n",
       "      <td>九方</td>\n",
       "      <td>1552916</td>\n",
       "      <td>712139</td>\n",
       "      <td>101217</td>\n",
       "      <td>0.46</td>\n",
       "      <td>0.14</td>\n",
       "    </tr>\n",
       "    <tr>\n",
       "      <th>20</th>\n",
       "      <td>巨奥</td>\n",
       "      <td>1417267</td>\n",
       "      <td>512847</td>\n",
       "      <td>45790</td>\n",
       "      <td>0.36</td>\n",
       "      <td>0.09</td>\n",
       "    </tr>\n",
       "    <tr>\n",
       "      <th>15</th>\n",
       "      <td>商软</td>\n",
       "      <td>1002679</td>\n",
       "      <td>544392</td>\n",
       "      <td>72050</td>\n",
       "      <td>0.54</td>\n",
       "      <td>0.13</td>\n",
       "    </tr>\n",
       "    <tr>\n",
       "      <th>24</th>\n",
       "      <td>戴硕</td>\n",
       "      <td>920350</td>\n",
       "      <td>540284</td>\n",
       "      <td>30371</td>\n",
       "      <td>0.59</td>\n",
       "      <td>0.06</td>\n",
       "    </tr>\n",
       "  </tbody>\n",
       "</table>\n",
       "</div>"
      ],
      "text/plain": [
       "    品牌   品牌搜索人数    点击人数    支付人数  搜索-点击转换化率  点击-支付转化率\n",
       "12  双敏  1604198  571399   61244       0.36      0.11\n",
       "3   九方  1552916  712139  101217       0.46      0.14\n",
       "20  巨奥  1417267  512847   45790       0.36      0.09\n",
       "15  商软  1002679  544392   72050       0.54      0.13\n",
       "24  戴硕   920350  540284   30371       0.59      0.06"
      ]
     },
     "execution_count": 22,
     "metadata": {},
     "output_type": "execute_result"
    }
   ],
   "source": [
    "#gp.round({'搜索-点击转换化率':2,'点击-支付转化率':2})\n",
    "pd.set_option('display.float_format',lambda x:'%.2f'%x)#浮点数显示两位小数\n",
    "gp.head()"
   ]
  },
  {
   "cell_type": "code",
   "execution_count": 25,
   "id": "99e23dbf",
   "metadata": {},
   "outputs": [],
   "source": [
    "from matplotlib import pyplot as plt\n",
    "plt.rcParams['font.sans-serif']=['SimHei']"
   ]
  },
  {
   "cell_type": "code",
   "execution_count": 33,
   "id": "1e18e54e",
   "metadata": {},
   "outputs": [
    {
     "data": {
      "text/plain": [
       "<Figure size 1200x700 with 0 Axes>"
      ]
     },
     "metadata": {},
     "output_type": "display_data"
    }
   ],
   "source": [
    "draw_data=gp.iloc[:15,:]\n",
    "plt.figure(figsize=(12,7))\n",
    "\n",
    "#初始化绘图数据\n",
    "x=draw_data['搜索-点击转换化率'].to_list()\n",
    "y=draw_data['点击-支付转化率'].to_list()\n",
    "z=draw_data['品牌搜索人数']\n",
    "text=draw_data['品牌'].to_list()"
   ]
  },
  {
   "cell_type": "code",
   "execution_count": 39,
   "id": "246f7d4e",
   "metadata": {},
   "outputs": [
    {
     "data": {
      "text/plain": [
       "Text(0.5, 1.0, 'Top15品牌搜索分布')"
      ]
     },
     "execution_count": 39,
     "metadata": {},
     "output_type": "execute_result"
    },
    {
     "data": {
      "image/png": "[encoded data removed]",
      "text/plain": [
       "<Figure size 640x480 with 1 Axes>"
      ]
     },
     "metadata": {},
     "output_type": "display_data"
    }
   ],
   "source": [
    "#绘制气泡图\n",
    "plt.scatter(x,y,s = z / 1000,c=x,cmap='Reds',alpha=0.7,edgecolors='grey',linewidth=1)\n",
    "#加文字标签\n",
    "for i,txt in enumerate(text):\n",
    "    plt.text(x=x[i],y=y[i],s=txt,size=11,horizontalalignment='center',verticalalignment='center')\n",
    "\n",
    "#添加辅助线\n",
    "plt.axhline(y=0.12,color='black',linestyle='--',alpha=0.6)\n",
    "plt.axvline(x=0.465,color='black',linestyle='--',alpha=0.6)\n",
    "plt.xlabel('搜索-点击转换化率')\n",
    "plt.ylabel('点击-支付转化率')\n",
    "plt.title('Top15品牌搜索分布',size=15)"
   ]
  },
  {
   "cell_type": "code",
   "execution_count": 40,
   "id": "644c4dea",
   "metadata": {},
   "outputs": [],
   "source": [
    "draw_data.to_excel('Top15 brand.xlsx',index=False)"
   ]
  },
  {
   "cell_type": "code",
   "execution_count": null,
   "id": "66d93a10",
   "metadata": {},
   "outputs": [],
   "source": []
  }
 ],
 "metadata": {
  "kernelspec": {
   "display_name": "Python 3 (ipykernel)",
   "language": "python",
   "name": "python3"
  },
  "language_info": {
   "codemirror_mode": {
    "name": "ipython",
    "version": 3
   },
   "file_extension": ".py",
   "mimetype": "text/x-python",
   "name": "python",
   "nbconvert_exporter": "python",
   "pygments_lexer": "ipython3",
   "version": "3.9.13"
  }
 },
 "nbformat": 4,
 "nbformat_minor": 5
}
